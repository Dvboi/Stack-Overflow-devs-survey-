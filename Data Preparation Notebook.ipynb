{
 "cells": [
  {
   "cell_type": "code",
   "execution_count": 1,
   "metadata": {},
   "outputs": [],
   "source": [
    "import pandas as pd\n",
    "import numpy as np"
   ]
  },
  {
   "cell_type": "code",
   "execution_count": 2,
   "metadata": {},
   "outputs": [
    {
     "name": "stderr",
     "output_type": "stream",
     "text": [
      "C:\\ProgramData\\Anaconda3\\lib\\site-packages\\IPython\\core\\interactiveshell.py:3063: DtypeWarning: Columns (9) have mixed types.Specify dtype option on import or set low_memory=False.\n",
      "  interactivity=interactivity, compiler=compiler, result=result)\n"
     ]
    }
   ],
   "source": [
    "df = pd.read_csv('survey_final.csv') "
   ]
  },
  {
   "cell_type": "code",
   "execution_count": 3,
   "metadata": {},
   "outputs": [
    {
     "data": {
      "text/html": [
       "<div>\n",
       "<style scoped>\n",
       "    .dataframe tbody tr th:only-of-type {\n",
       "        vertical-align: middle;\n",
       "    }\n",
       "\n",
       "    .dataframe tbody tr th {\n",
       "        vertical-align: top;\n",
       "    }\n",
       "\n",
       "    .dataframe thead th {\n",
       "        text-align: right;\n",
       "    }\n",
       "</style>\n",
       "<table border=\"1\" class=\"dataframe\">\n",
       "  <thead>\n",
       "    <tr style=\"text-align: right;\">\n",
       "      <th></th>\n",
       "      <th>Year</th>\n",
       "      <th>Hobbyist</th>\n",
       "      <th>ConvertedComp</th>\n",
       "      <th>Country</th>\n",
       "      <th>DatabaseDesireNextYear</th>\n",
       "      <th>DatabaseWorkedWith</th>\n",
       "      <th>DevType</th>\n",
       "      <th>EdLevel</th>\n",
       "      <th>Employment</th>\n",
       "      <th>JobSat</th>\n",
       "      <th>LanguageDesireNextYear</th>\n",
       "      <th>LanguageWorkedWith</th>\n",
       "      <th>OrgSize</th>\n",
       "      <th>UndergradMajor</th>\n",
       "      <th>YearsCodePro</th>\n",
       "    </tr>\n",
       "  </thead>\n",
       "  <tbody>\n",
       "    <tr>\n",
       "      <th>0</th>\n",
       "      <td>2020</td>\n",
       "      <td>Yes</td>\n",
       "      <td>NaN</td>\n",
       "      <td>Germany</td>\n",
       "      <td>Microsoft SQL Server</td>\n",
       "      <td>Elasticsearch;Microsoft SQL Server;Oracle</td>\n",
       "      <td>Developer, desktop or enterprise applications;...</td>\n",
       "      <td>Master's degree (M.A., M.S., M.Eng., MBA, etc.)</td>\n",
       "      <td>Independent contractor, freelancer, or self-em...</td>\n",
       "      <td>Slightly satisfied</td>\n",
       "      <td>C#;HTML/CSS;JavaScript</td>\n",
       "      <td>C#;HTML/CSS;JavaScript</td>\n",
       "      <td>2 to 9 employees</td>\n",
       "      <td>Computer science, computer engineering, or sof...</td>\n",
       "      <td>27</td>\n",
       "    </tr>\n",
       "    <tr>\n",
       "      <th>1</th>\n",
       "      <td>2020</td>\n",
       "      <td>No</td>\n",
       "      <td>NaN</td>\n",
       "      <td>United Kingdom</td>\n",
       "      <td>NaN</td>\n",
       "      <td>NaN</td>\n",
       "      <td>Developer, full-stack;Developer, mobile</td>\n",
       "      <td>Bachelor's degree (B.A., B.S., B.Eng., etc.)</td>\n",
       "      <td>Employed full-time</td>\n",
       "      <td>Very dissatisfied</td>\n",
       "      <td>Python;Swift</td>\n",
       "      <td>JavaScript;Swift</td>\n",
       "      <td>1,000 to 4,999 employees</td>\n",
       "      <td>Computer science, computer engineering, or sof...</td>\n",
       "      <td>4</td>\n",
       "    </tr>\n",
       "    <tr>\n",
       "      <th>2</th>\n",
       "      <td>2020</td>\n",
       "      <td>Yes</td>\n",
       "      <td>NaN</td>\n",
       "      <td>Russian Federation</td>\n",
       "      <td>NaN</td>\n",
       "      <td>NaN</td>\n",
       "      <td>NaN</td>\n",
       "      <td>NaN</td>\n",
       "      <td>NaN</td>\n",
       "      <td>NaN</td>\n",
       "      <td>Objective-C;Python;Swift</td>\n",
       "      <td>Objective-C;Python;Swift</td>\n",
       "      <td>NaN</td>\n",
       "      <td>NaN</td>\n",
       "      <td>NaN</td>\n",
       "    </tr>\n",
       "    <tr>\n",
       "      <th>3</th>\n",
       "      <td>2020</td>\n",
       "      <td>Yes</td>\n",
       "      <td>NaN</td>\n",
       "      <td>Albania</td>\n",
       "      <td>NaN</td>\n",
       "      <td>NaN</td>\n",
       "      <td>NaN</td>\n",
       "      <td>Master's degree (M.A., M.S., M.Eng., MBA, etc.)</td>\n",
       "      <td>NaN</td>\n",
       "      <td>Slightly dissatisfied</td>\n",
       "      <td>NaN</td>\n",
       "      <td>NaN</td>\n",
       "      <td>20 to 99 employees</td>\n",
       "      <td>Computer science, computer engineering, or sof...</td>\n",
       "      <td>4</td>\n",
       "    </tr>\n",
       "    <tr>\n",
       "      <th>4</th>\n",
       "      <td>2020</td>\n",
       "      <td>Yes</td>\n",
       "      <td>NaN</td>\n",
       "      <td>United States</td>\n",
       "      <td>MySQL;PostgreSQL</td>\n",
       "      <td>MySQL;PostgreSQL;Redis;SQLite</td>\n",
       "      <td>NaN</td>\n",
       "      <td>Bachelor's degree (B.A., B.S., B.Eng., etc.)</td>\n",
       "      <td>Employed full-time</td>\n",
       "      <td>NaN</td>\n",
       "      <td>Java;Ruby;Scala</td>\n",
       "      <td>HTML/CSS;Ruby;SQL</td>\n",
       "      <td>NaN</td>\n",
       "      <td>Computer science, computer engineering, or sof...</td>\n",
       "      <td>8</td>\n",
       "    </tr>\n",
       "  </tbody>\n",
       "</table>\n",
       "</div>"
      ],
      "text/plain": [
       "   Year Hobbyist  ConvertedComp             Country DatabaseDesireNextYear  \\\n",
       "0  2020      Yes            NaN             Germany   Microsoft SQL Server   \n",
       "1  2020       No            NaN      United Kingdom                    NaN   \n",
       "2  2020      Yes            NaN  Russian Federation                    NaN   \n",
       "3  2020      Yes            NaN             Albania                    NaN   \n",
       "4  2020      Yes            NaN       United States       MySQL;PostgreSQL   \n",
       "\n",
       "                          DatabaseWorkedWith  \\\n",
       "0  Elasticsearch;Microsoft SQL Server;Oracle   \n",
       "1                                        NaN   \n",
       "2                                        NaN   \n",
       "3                                        NaN   \n",
       "4              MySQL;PostgreSQL;Redis;SQLite   \n",
       "\n",
       "                                             DevType  \\\n",
       "0  Developer, desktop or enterprise applications;...   \n",
       "1            Developer, full-stack;Developer, mobile   \n",
       "2                                                NaN   \n",
       "3                                                NaN   \n",
       "4                                                NaN   \n",
       "\n",
       "                                           EdLevel  \\\n",
       "0  Master's degree (M.A., M.S., M.Eng., MBA, etc.)   \n",
       "1     Bachelor's degree (B.A., B.S., B.Eng., etc.)   \n",
       "2                                              NaN   \n",
       "3  Master's degree (M.A., M.S., M.Eng., MBA, etc.)   \n",
       "4     Bachelor's degree (B.A., B.S., B.Eng., etc.)   \n",
       "\n",
       "                                          Employment                 JobSat  \\\n",
       "0  Independent contractor, freelancer, or self-em...     Slightly satisfied   \n",
       "1                                 Employed full-time      Very dissatisfied   \n",
       "2                                                NaN                    NaN   \n",
       "3                                                NaN  Slightly dissatisfied   \n",
       "4                                 Employed full-time                    NaN   \n",
       "\n",
       "     LanguageDesireNextYear        LanguageWorkedWith  \\\n",
       "0    C#;HTML/CSS;JavaScript    C#;HTML/CSS;JavaScript   \n",
       "1              Python;Swift          JavaScript;Swift   \n",
       "2  Objective-C;Python;Swift  Objective-C;Python;Swift   \n",
       "3                       NaN                       NaN   \n",
       "4           Java;Ruby;Scala         HTML/CSS;Ruby;SQL   \n",
       "\n",
       "                    OrgSize  \\\n",
       "0          2 to 9 employees   \n",
       "1  1,000 to 4,999 employees   \n",
       "2                       NaN   \n",
       "3        20 to 99 employees   \n",
       "4                       NaN   \n",
       "\n",
       "                                      UndergradMajor YearsCodePro  \n",
       "0  Computer science, computer engineering, or sof...           27  \n",
       "1  Computer science, computer engineering, or sof...            4  \n",
       "2                                                NaN          NaN  \n",
       "3  Computer science, computer engineering, or sof...            4  \n",
       "4  Computer science, computer engineering, or sof...            8  "
      ]
     },
     "execution_count": 3,
     "metadata": {},
     "output_type": "execute_result"
    }
   ],
   "source": [
    "df.head() "
   ]
  },
  {
   "cell_type": "code",
   "execution_count": 4,
   "metadata": {},
   "outputs": [
    {
     "data": {
      "text/plain": [
       "Index(['Year', 'Hobbyist', 'ConvertedComp', 'Country',\n",
       "       'DatabaseDesireNextYear', 'DatabaseWorkedWith', 'DevType', 'EdLevel',\n",
       "       'Employment', 'JobSat', 'LanguageDesireNextYear', 'LanguageWorkedWith',\n",
       "       'OrgSize', 'UndergradMajor', 'YearsCodePro'],\n",
       "      dtype='object')"
      ]
     },
     "execution_count": 4,
     "metadata": {},
     "output_type": "execute_result"
    }
   ],
   "source": [
    "df.columns"
   ]
  },
  {
   "cell_type": "code",
   "execution_count": 5,
   "metadata": {},
   "outputs": [
    {
     "name": "stdout",
     "output_type": "stream",
     "text": [
      "(303591, 15)\n"
     ]
    },
    {
     "data": {
      "text/plain": [
       "array([2020, 2019, 2018, 2017], dtype=int64)"
      ]
     },
     "execution_count": 5,
     "metadata": {},
     "output_type": "execute_result"
    }
   ],
   "source": [
    "print(df.shape)\n",
    "df.Year.unique() "
   ]
  },
  {
   "cell_type": "markdown",
   "metadata": {},
   "source": [
    "#### Checking for missing values"
   ]
  },
  {
   "cell_type": "code",
   "execution_count": 6,
   "metadata": {},
   "outputs": [
    {
     "data": {
      "text/plain": [
       "Year                       0.000000\n",
       "Hobbyist                   0.014823\n",
       "ConvertedComp             50.205375\n",
       "Country                    0.307321\n",
       "DatabaseDesireNextYear    34.066886\n",
       "DatabaseWorkedWith        28.541360\n",
       "DevType                   14.711569\n",
       "EdLevel                    4.504415\n",
       "Employment                 1.924629\n",
       "JobSat                    25.612419\n",
       "LanguageDesireNextYear    18.288092\n",
       "LanguageWorkedWith        15.329506\n",
       "OrgSize                   25.367353\n",
       "UndergradMajor            18.151065\n",
       "YearsCodePro              21.119862\n",
       "dtype: float64"
      ]
     },
     "execution_count": 6,
     "metadata": {},
     "output_type": "execute_result"
    }
   ],
   "source": [
    "# %age of null values\n",
    "(df.isnull().sum() / df.shape[0]) * 100"
   ]
  },
  {
   "cell_type": "code",
   "execution_count": 9,
   "metadata": {},
   "outputs": [
    {
     "data": {
      "text/plain": [
       "2018    33.560777\n",
       "2017    25.259974\n",
       "2019    21.690209\n",
       "2020    19.489040\n",
       "Name: Year, dtype: float64"
      ]
     },
     "execution_count": 9,
     "metadata": {},
     "output_type": "execute_result"
    }
   ],
   "source": [
    "#  taking missing data for salary separately\n",
    "# %age of missing values(for salary) contributed by each year\n",
    "temp = df[df.ConvertedComp.isnull()==True]\n",
    "(temp.Year.value_counts().head(10) / temp.shape[0]) * 100 "
   ]
  },
  {
   "cell_type": "markdown",
   "metadata": {},
   "source": [
    "Fixing Hobbyist column"
   ]
  },
  {
   "cell_type": "code",
   "execution_count": 11,
   "metadata": {},
   "outputs": [
    {
     "data": {
      "text/plain": [
       "array([array(['Yes, both', 'Yes, I program as a hobby', 'No',\n",
       "       'Yes, I contribute to open source projects'], dtype=object),\n",
       "       array(['Yes', 'No'], dtype=object),\n",
       "       array(['Yes', 'No'], dtype=object),\n",
       "       array(['Yes', 'No', nan], dtype=object)], dtype=object)"
      ]
     },
     "execution_count": 11,
     "metadata": {},
     "output_type": "execute_result"
    }
   ],
   "source": [
    "# del temp\n",
    "df.groupby('Year').Hobbyist.unique().values"
   ]
  },
  {
   "cell_type": "markdown",
   "metadata": {},
   "source": [
    "Hobby is either Yes/No is all years except in 2017, where it is either Yes/No/yes_as_a_hobby/yes_as_OSC/both so we'll format them properly"
   ]
  },
  {
   "cell_type": "code",
   "execution_count": 12,
   "metadata": {},
   "outputs": [],
   "source": [
    "df.Hobbyist.replace(['Yes, both','Yes, I program as a hobby',\n",
    "                      'Yes, I contribute to open source projects'],'Yes',inplace=True)"
   ]
  },
  {
   "cell_type": "code",
   "execution_count": 13,
   "metadata": {},
   "outputs": [],
   "source": [
    "# dict.fromkeys(['Beer','Alcohol','Beverage','Drink'], 'Drink') # alternative"
   ]
  },
  {
   "cell_type": "markdown",
   "metadata": {},
   "source": [
    "Fixing Database Desire column"
   ]
  },
  {
   "cell_type": "code",
   "execution_count": 14,
   "metadata": {},
   "outputs": [
    {
     "data": {
      "text/plain": [
       "Counter({'Microsoft SQL Server': 53706,\n",
       "         'MySQL': 79824,\n",
       "         'PostgreSQL': 71955,\n",
       "         'MongoDB': 66809,\n",
       "         'Firebase': 20521,\n",
       "         'Cassandra': 16969,\n",
       "         'Elasticsearch': 39767,\n",
       "         'MariaDB': 23240,\n",
       "         'Redis': 48221,\n",
       "         'SQLite': 44977,\n",
       "         'Oracle': 21318,\n",
       "         'Couchbase': 4147,\n",
       "         'IBM DB2': 935,\n",
       "         'Other(s):': 4516,\n",
       "         'Amazon RDS/Aurora': 4630,\n",
       "         'Microsoft Azure (Tables, CosmosDB, SQL, etc)': 8325,\n",
       "         'IBM Db2': 905,\n",
       "         'Amazon DynamoDB': 16960,\n",
       "         'Apache Hive': 2653,\n",
       "         'Neo4j': 3790,\n",
       "         'Apache HBase': 2312,\n",
       "         'Google BigQuery': 5036,\n",
       "         'Memcached': 3587,\n",
       "         'Google Cloud Storage': 7515,\n",
       "         'Amazon Redshift': 3183})"
      ]
     },
     "execution_count": 14,
     "metadata": {},
     "output_type": "execute_result"
    }
   ],
   "source": [
    "from collections import Counter\n",
    "db_desire = Counter()\n",
    "for ele in df.DatabaseDesireNextYear.dropna():\n",
    "    t = ele.strip().split(';')\n",
    "    db_desire.update(t) \n",
    "    \n",
    "    \n",
    "# to handle duplicates\n",
    "for keys in list(db_desire.keys()):  # as you can't iterate over a dict while also modifying it\n",
    "    if keys.startswith(\" \"):\n",
    "        db_desire[keys.strip()] = db_desire[keys.strip()] + db_desire[keys]\n",
    "        db_desire.pop(keys) # removing after updating\n",
    "        \n",
    "        \n",
    "\n",
    "# for 2 special cases\n",
    "db_desire['Microsoft SQL Server'] = db_desire['Microsoft SQL Server'] + db_desire['SQL Server']\n",
    "db_desire.pop('SQL Server')\n",
    "db_desire['Amazon DynamoDB'] = db_desire['Amazon DynamoDB'] + db_desire['DynamoDB']\n",
    "db_desire.pop('DynamoDB')\n",
    "# final\n",
    "db_desire"
   ]
  },
  {
   "cell_type": "markdown",
   "metadata": {},
   "source": [
    "Fixing Database-Worked-with column"
   ]
  },
  {
   "cell_type": "code",
   "execution_count": 15,
   "metadata": {},
   "outputs": [
    {
     "data": {
      "text/plain": [
       "Counter({'Elasticsearch': 26849,\n",
       "         'Microsoft SQL Server': 75572,\n",
       "         'Oracle': 30918,\n",
       "         'MySQL': 116882,\n",
       "         'PostgreSQL': 73547,\n",
       "         'Redis': 41152,\n",
       "         'SQLite': 57981,\n",
       "         'MariaDB': 29566,\n",
       "         'Firebase': 16740,\n",
       "         'MongoDB': 59192,\n",
       "         'IBM DB2': 1421,\n",
       "         'Cassandra': 9846,\n",
       "         'Couchbase': 2454,\n",
       "         'Other(s):': 5059,\n",
       "         'Amazon RDS/Aurora': 3388,\n",
       "         'Microsoft Azure (Tables, CosmosDB, SQL, etc)': 5203,\n",
       "         'Memcached': 3615,\n",
       "         'IBM Db2': 1677,\n",
       "         'Google Cloud Storage': 3634,\n",
       "         'Amazon DynamoDB': 11580,\n",
       "         'Apache HBase': 1107,\n",
       "         'Apache Hive': 1438,\n",
       "         'Amazon Redshift': 1464,\n",
       "         'Google BigQuery': 1384,\n",
       "         'Neo4j': 1572})"
      ]
     },
     "execution_count": 15,
     "metadata": {},
     "output_type": "execute_result"
    }
   ],
   "source": [
    "db_worked = Counter()\n",
    "for ele in df.DatabaseWorkedWith.dropna():\n",
    "    t = ele.strip().split(';')\n",
    "    db_worked.update(t) \n",
    "\n",
    "    \n",
    "# to handle duplicates\n",
    "for keys in list(db_worked.keys()):  # as you can't iterate over a dict while also modifying it\n",
    "    if keys.startswith(\" \"):\n",
    "        db_worked[keys.strip()] = db_worked[keys.strip()] + db_worked[keys]\n",
    "        db_worked.pop(keys) # removing after updating\n",
    "        \n",
    "    \n",
    "# for 2 special cases\n",
    "db_worked['Microsoft SQL Server'] = db_worked['Microsoft SQL Server'] + db_worked['SQL Server']\n",
    "db_worked.pop('SQL Server')\n",
    "db_worked['Amazon DynamoDB'] = db_worked['Amazon DynamoDB'] + db_worked['DynamoDB']\n",
    "db_worked.pop('DynamoDB')\n",
    "# final\n",
    "db_worked"
   ]
  },
  {
   "cell_type": "markdown",
   "metadata": {},
   "source": [
    "Combining Both"
   ]
  },
  {
   "cell_type": "code",
   "execution_count": 16,
   "metadata": {},
   "outputs": [],
   "source": [
    "t1 = pd.DataFrame(pd.Series(db_desire).reset_index())\n",
    "t2 = pd.DataFrame(pd.Series(db_worked).reset_index()) \n",
    "total_table_db = t1.merge(t2,suffixes=('_Desired','_Worked_with'),how='outer',on='index')\n",
    "total_table_db.columns = ['DataBase','Desired to use','Already using']\n",
    "# total_table_db.to_csv('4yrs_db.csv',index=False) "
   ]
  },
  {
   "cell_type": "markdown",
   "metadata": {},
   "source": [
    "Fixing Developer Type Column"
   ]
  },
  {
   "cell_type": "code",
   "execution_count": 17,
   "metadata": {},
   "outputs": [],
   "source": [
    "devs = Counter()\n",
    "for ele in df.DevType.dropna():\n",
    "    t = [i.strip() for i in ele.strip().split(';')]  # another simpler way\n",
    "    devs.update(t) \n",
    "\n",
    "    \n",
    "devs['Developer, front-end'] = devs['Developer, front-end'] + devs['Front-end developer']\n",
    "devs.pop('Front-end developer') \n",
    "\n",
    "devs['Developer, back-end'] = devs['Developer, back-end'] + devs['Back-end developer']\n",
    "devs.pop('Back-end developer')\n",
    "\n",
    "devs['Developer, full-stack'] = devs['Developer, full-stack'] + devs['Full-stack developer'] + devs['Web developer']\n",
    "devs.pop('Web developer')\n",
    "devs.pop('Full-stack developer') \n",
    "\n",
    "devs['Data scientist or machine learning specialist'] += devs['Data scientist'] + devs['Machine learning specialist']    \n",
    "devs.pop('Machine learning specialist')\n",
    "devs.pop('Data scientist')\n",
    "\n",
    "devs['System administrator'] = devs['System administrator'] + devs['Systems administrator']\n",
    "devs.pop('Systems administrator');"
   ]
  },
  {
   "cell_type": "code",
   "execution_count": 18,
   "metadata": {},
   "outputs": [],
   "source": [
    "# # outputting to a csv file w/o pandas\n",
    "# import csv\n",
    "# # to be ran once\n",
    "# with open('4yrs_devs.csv','w') as csvfile:\n",
    "#     writer=csv.writer(csvfile)\n",
    "#     for key, value in devs.items():\n",
    "#         writer.writerow([key]+[value])\n",
    "        "
   ]
  },
  {
   "cell_type": "markdown",
   "metadata": {},
   "source": [
    "Fixing EdLevel column"
   ]
  },
  {
   "cell_type": "code",
   "execution_count": 19,
   "metadata": {},
   "outputs": [
    {
     "data": {
      "text/plain": [
       "array([\"Master's degree (M.A., M.S., M.Eng., MBA, etc.)\",\n",
       "       \"Bachelor's degree (B.A., B.S., B.Eng., etc.)\", nan,\n",
       "       'Secondary school (e.g. American high school, German Realschule or Gymnasium, etc.)',\n",
       "       'Professional degree (JD, MD, etc.)',\n",
       "       'Some college/university study without earning a degree',\n",
       "       'Associate degree (A.A., A.S., etc.)',\n",
       "       'Other doctoral degree (Ph.D., Ed.D., etc.)',\n",
       "       'Primary/elementary school',\n",
       "       'I never completed any formal education',\n",
       "       \"Bachelor's degree (BA, BS, B.Eng., etc.)\",\n",
       "       \"Master's degree (MA, MS, M.Eng., MBA, etc.)\",\n",
       "       'Other doctoral degree (Ph.D, Ed.D., etc.)', 'Associate degree',\n",
       "       \"Bachelor‚'s degree (BA, BS, B.Eng., etc.)\",\n",
       "       'Full-stack developer',\n",
       "       \"Master‚'s degree (MA, MS, M.Eng., MBA, etc.)\", 'Secondary school',\n",
       "       \"Some college/university study without earning a bachelor's degree\",\n",
       "       \"Bachelor's degree\", 'Doctoral degree', \"Master's degree\",\n",
       "       'Professional degree', 'I prefer not to answer'], dtype=object)"
      ]
     },
     "execution_count": 19,
     "metadata": {},
     "output_type": "execute_result"
    }
   ],
   "source": [
    "df.EdLevel.unique()"
   ]
  },
  {
   "cell_type": "code",
   "execution_count": 20,
   "metadata": {},
   "outputs": [],
   "source": [
    "b = dict.fromkeys([\"Bachelor's degree (B.A., B.S., B.Eng., etc.)\",\n",
    "              \"Bachelor‚'s degree (BA, BS, B.Eng., etc.)\",\n",
    "              \"Bachelor's degree (BA, BS, B.Eng., etc.)\",\"Bachelor's degree\"],\"Some Bachelor's Degree\") \n",
    "\n",
    "m = dict.fromkeys(\n",
    "[\"Master's degree (M.A., M.S., M.Eng., MBA, etc.)\",\"Master's degree (MA, MS, M.Eng., MBA, etc.)\",\n",
    " \"Master‚'s degree (MA, MS, M.Eng., MBA, etc.)\",\"Master's degree\"],\"Some Master's Degree\"\n",
    ")\n",
    "\n",
    "s = dict.fromkeys(\n",
    "['Secondary school (e.g. American high school, German Realschule or Gymnasium, etc.)',\n",
    "'Primary/elementary school','Secondary school'],'Some School'\n",
    ")\n",
    "\n",
    "p = dict.fromkeys(\n",
    "['Professional degree (JD, MD, etc.)','Some college/university study without earning a degree',\n",
    "'Full-stack developer',\"Some college/university study without earning a bachelor's degree\",\n",
    "'Professional degree'],'Some Professional degree'\n",
    ")\n",
    "\n",
    "d = dict.fromkeys(\n",
    "['Other doctoral degree (Ph.D., Ed.D., etc.)', 'Other doctoral degree (Ph.D, Ed.D., etc.)',\n",
    "'Doctoral degree'],'Some Doctoral degree'\n",
    ")\n",
    "\n",
    "a = dict.fromkeys(\n",
    "['Associate degree (A.A., A.S., etc.)','Associate degree'],'Some Associate degree'\n",
    ")\n",
    "\n",
    "final_changes = {**b,**m,**s,**p,**d,**a} "
   ]
  },
  {
   "cell_type": "code",
   "execution_count": 21,
   "metadata": {},
   "outputs": [],
   "source": [
    "# finally replacing nulls with 'I prefer not to answer' \n",
    "df.EdLevel = df.EdLevel.replace(final_changes).fillna('I prefer not to answer')"
   ]
  },
  {
   "cell_type": "code",
   "execution_count": 22,
   "metadata": {},
   "outputs": [
    {
     "data": {
      "text/plain": [
       "Some Bachelor's Degree                    130943\n",
       "Some Master's Degree                       65218\n",
       "Some Professional degree                   41741\n",
       "Some School                                33338\n",
       "I prefer not to answer                     14784\n",
       "Some Associate degree                       7751\n",
       "Some Doctoral degree                        7644\n",
       "I never completed any formal education      2172\n",
       "Name: EdLevel, dtype: int64"
      ]
     },
     "execution_count": 22,
     "metadata": {},
     "output_type": "execute_result"
    }
   ],
   "source": [
    "df.EdLevel.value_counts() "
   ]
  },
  {
   "cell_type": "markdown",
   "metadata": {},
   "source": [
    "Fixing JobSat column"
   ]
  },
  {
   "cell_type": "code",
   "execution_count": 23,
   "metadata": {},
   "outputs": [],
   "source": [
    "final_changes = {\n",
    "    'Extremely satisfied':'Very satisfied',\n",
    "    'Extremely dissatisfied':'Very dissatisfied',\n",
    "    'Moderately satisfied':'Slightly satisfied',\n",
    "    'Moderately dissatisfied':'Slightly dissatisfied',\n",
    "    '0.0':'Very dissatisfied',\n",
    "    '1.0':'Very dissatisfied',\n",
    "    '2.0':'Very dissatisfied',\n",
    "    '3.0':'Slightly dissatisfied',\n",
    "    '4.0':'Slightly dissatisfied',\n",
    "    '5.0':'Neither satisfied nor dissatisfied',  \n",
    "    '6.0':'Slightly satisfied', \n",
    "    '7.0':'Slightly satisfied',  \n",
    "    '8.0':'Slightly satisfied',  \n",
    "    '9.0':'Very satisfied', \n",
    "    '10.0':'Very satisfied'\n",
    "    \n",
    "} "
   ]
  },
  {
   "cell_type": "code",
   "execution_count": 24,
   "metadata": {},
   "outputs": [],
   "source": [
    "df.JobSat.replace(final_changes,inplace=True)"
   ]
  },
  {
   "cell_type": "code",
   "execution_count": 25,
   "metadata": {},
   "outputs": [],
   "source": [
    "def custom(row):\n",
    "#     print(row)\n",
    "    if type(row)==np.float:\n",
    "        if row >= 8.0:\n",
    "            return 'Very satisfied'\n",
    "        elif row >= 6.0:\n",
    "            return 'Slightly satisfied'\n",
    "        elif row >= 4.0:\n",
    "            return 'Neither satisfied nor dissatisfied'\n",
    "        elif row >= 2.0:\n",
    "            return 'Slightly dissatisfied'\n",
    "        elif row >= 0.0:\n",
    "            return 'Very dissatisfied'\n",
    "    else:\n",
    "        return row"
   ]
  },
  {
   "cell_type": "code",
   "execution_count": 26,
   "metadata": {},
   "outputs": [],
   "source": [
    "df.JobSat = df.JobSat.apply(custom)"
   ]
  },
  {
   "cell_type": "markdown",
   "metadata": {},
   "source": [
    "Fixing Organization size Column"
   ]
  },
  {
   "cell_type": "code",
   "execution_count": 27,
   "metadata": {},
   "outputs": [
    {
     "data": {
      "text/plain": [
       "array(['2 to 9 employees', '1,000 to 4,999 employees', nan,\n",
       "       '20 to 99 employees',\n",
       "       'Just me - I am a freelancer, sole proprietor, etc.',\n",
       "       '10,000 or more employees', '100 to 499 employees',\n",
       "       '500 to 999 employees', '10 to 19 employees',\n",
       "       '5,000 to 9,999 employees', '2-9 employees',\n",
       "       'Fewer than 10 employees', \"I don't know\",\n",
       "       'I prefer not to answer'], dtype=object)"
      ]
     },
     "execution_count": 27,
     "metadata": {},
     "output_type": "execute_result"
    }
   ],
   "source": [
    "df.OrgSize.unique()\n",
    "# len(df.OrgSize.isna()==True)"
   ]
  },
  {
   "cell_type": "code",
   "execution_count": 28,
   "metadata": {},
   "outputs": [],
   "source": [
    "final_changes = {\n",
    "    '2-9 employees':'2 to 9 employees',\n",
    "    'Fewer than 10 employees':'2 to 9 employees',\n",
    "    \n",
    "}"
   ]
  },
  {
   "cell_type": "code",
   "execution_count": 29,
   "metadata": {},
   "outputs": [],
   "source": [
    "df.OrgSize = df.OrgSize.replace(final_changes).fillna(\"I don't know\") "
   ]
  },
  {
   "cell_type": "code",
   "execution_count": 30,
   "metadata": {},
   "outputs": [
    {
     "data": {
      "text/plain": [
       "array(['2 to 9 employees', '1,000 to 4,999 employees', \"I don't know\",\n",
       "       '20 to 99 employees',\n",
       "       'Just me - I am a freelancer, sole proprietor, etc.',\n",
       "       '10,000 or more employees', '100 to 499 employees',\n",
       "       '500 to 999 employees', '10 to 19 employees',\n",
       "       '5,000 to 9,999 employees', 'I prefer not to answer'], dtype=object)"
      ]
     },
     "execution_count": 30,
     "metadata": {},
     "output_type": "execute_result"
    }
   ],
   "source": [
    "df.OrgSize.unique() "
   ]
  },
  {
   "cell_type": "markdown",
   "metadata": {},
   "source": [
    "Fixing UndergradMajor Column"
   ]
  },
  {
   "cell_type": "code",
   "execution_count": 31,
   "metadata": {},
   "outputs": [
    {
     "data": {
      "text/plain": [
       "array(['Computer science, computer engineering, or software engineering',\n",
       "       nan, 'Mathematics or statistics',\n",
       "       'Another engineering discipline (such as civil, electrical, mechanical, etc.)',\n",
       "       'A humanities discipline (such as literature, history, philosophy, etc.)',\n",
       "       'A health science (such as nursing, pharmacy, radiology, etc.)',\n",
       "       'Information systems, information technology, or system administration',\n",
       "       'Web development or web design',\n",
       "       'A natural science (such as biology, chemistry, physics, etc.)',\n",
       "       'Fine arts or performing arts (such as graphic design, music, studio art, etc.)',\n",
       "       'I never declared a major',\n",
       "       'A social science (such as anthropology, psychology, political science, etc.)',\n",
       "       'A business discipline (such as accounting, finance, marketing, etc.)',\n",
       "       'Another engineering discipline (ex. civil, electrical, mechanical)',\n",
       "       'A business discipline (ex. accounting, finance, marketing)',\n",
       "       'A natural science (ex. biology, chemistry, physics)',\n",
       "       'A social science (ex. anthropology, psychology, political science)',\n",
       "       'A humanities discipline (ex. literature, history, philosophy)',\n",
       "       'Fine arts or performing arts (ex. graphic design, music, studio art)',\n",
       "       'A health science (ex. nursing, pharmacy, radiology)',\n",
       "       'Computer science or software engineering',\n",
       "       'A non-computer-focused engineering discipline',\n",
       "       'A social science',\n",
       "       'Computer engineering or electrical/electronics engineering',\n",
       "       'A natural science', 'A business discipline',\n",
       "       'Computer programming or Web development',\n",
       "       'Information technology, networking, or system administration',\n",
       "       'Something else', 'Fine arts or performing arts',\n",
       "       'Management information systems', 'A humanities discipline',\n",
       "       'Psychology', 'A health science'], dtype=object)"
      ]
     },
     "execution_count": 31,
     "metadata": {},
     "output_type": "execute_result"
    }
   ],
   "source": [
    "df.UndergradMajor.unique()"
   ]
  },
  {
   "cell_type": "code",
   "execution_count": 32,
   "metadata": {},
   "outputs": [
    {
     "data": {
      "text/plain": [
       "{'Computer science or software engineering': 'Computer science, computer engineering, or software engineering',\n",
       " 'Computer engineering or electrical/electronics engineering': 'Computer science, computer engineering, or software engineering',\n",
       " 'Computer programming or Web development': 'Computer science, computer engineering, or software engineering',\n",
       " 'Another engineering discipline (such as civil, electrical, mechanical, etc.)': 'A non-computer-focused engineering discipline',\n",
       " 'Another engineering discipline (ex. civil, electrical, mechanical)': 'A non-computer-focused engineering discipline',\n",
       " 'A natural science': 'A natural science (such as biology, chemistry, physics, etc.)',\n",
       " 'A business discipline': 'A business discipline (such as accounting, finance, marketing, etc.)',\n",
       " 'A business discipline (ex. accounting, finance, marketing)': 'A business discipline (such as accounting, finance, marketing, etc.)',\n",
       " 'Fine arts or performing arts': 'Fine arts or performing arts (such as graphic design, music, studio art, etc.)',\n",
       " 'A humanities discipline': 'A humanities discipline (ex. literature, history, philosophy)',\n",
       " 'A health science': 'A health science (ex. nursing, pharmacy, radiology)',\n",
       " 'A natural science (ex. biology, chemistry, physics)': 'A natural science (such as biology, chemistry, physics, etc.)',\n",
       " 'A health science (such as nursing, pharmacy, radiology, etc.)': 'A health science (ex. nursing, pharmacy, radiology)',\n",
       " 'A social science': 'A social science (such as anthropology, psychology, political science, etc.)',\n",
       " 'Fine arts or performing arts (ex. graphic design, music, studio art)': 'Fine arts or performing arts (such as graphic design, music, studio art, etc.)',\n",
       " 'A social science (ex. anthropology, psychology, political science)': 'A social science (such as anthropology, psychology, political science, etc.)'}"
      ]
     },
     "execution_count": 32,
     "metadata": {},
     "output_type": "execute_result"
    }
   ],
   "source": [
    "temp = dict.fromkeys(['Computer science or software engineering' , \n",
    "                   'Computer engineering or electrical/electronics engineering',\n",
    "                     'Computer programming or Web development'],\n",
    "                  'Computer science, computer engineering, or software engineering')\n",
    "final_changes = {\n",
    "    'Another engineering discipline (such as civil, electrical, mechanical, etc.)':'A non-computer-focused engineering discipline',                                                   \n",
    "    'Another engineering discipline (ex. civil, electrical, mechanical)':'A non-computer-focused engineering discipline',\n",
    "    'A natural science':'A natural science (such as biology, chemistry, physics, etc.)',\n",
    "    'A business discipline':'A business discipline (such as accounting, finance, marketing, etc.)',\n",
    "    'A business discipline (ex. accounting, finance, marketing)':'A business discipline (such as accounting, finance, marketing, etc.)',\n",
    "    'Fine arts or performing arts':'Fine arts or performing arts (such as graphic design, music, studio art, etc.)',\n",
    "    'A humanities discipline':'A humanities discipline (ex. literature, history, philosophy)',\n",
    "    'A health science':'A health science (ex. nursing, pharmacy, radiology)',\n",
    "    'A natural science (ex. biology, chemistry, physics)':'A natural science (such as biology, chemistry, physics, etc.)',\n",
    "    'A health science (such as nursing, pharmacy, radiology, etc.)':'A health science (ex. nursing, pharmacy, radiology)',\n",
    "    'A social science':'A social science (such as anthropology, psychology, political science, etc.)',\n",
    "    'Fine arts or performing arts (ex. graphic design, music, studio art)':'Fine arts or performing arts (such as graphic design, music, studio art, etc.)',\n",
    "    'A social science (ex. anthropology, psychology, political science)':'A social science (such as anthropology, psychology, political science, etc.)'\n",
    "}\n",
    "final_changes = {**temp,**final_changes}\n",
    "final_changes"
   ]
  },
  {
   "cell_type": "code",
   "execution_count": 33,
   "metadata": {},
   "outputs": [],
   "source": [
    "df.UndergradMajor = df.UndergradMajor.replace(final_changes)"
   ]
  },
  {
   "cell_type": "markdown",
   "metadata": {},
   "source": [
    "Fixing LanguageWorkedWith"
   ]
  },
  {
   "cell_type": "code",
   "execution_count": 34,
   "metadata": {},
   "outputs": [
    {
     "data": {
      "text/plain": [
       "Counter({'C#': 82279,\n",
       "         'HTML/CSS': 196254,\n",
       "         'JavaScript': 169054,\n",
       "         'Swift': 19981,\n",
       "         'Objective-C': 13885,\n",
       "         'Python': 104659,\n",
       "         'Ruby': 23254,\n",
       "         'SQL': 134844,\n",
       "         'Java': 104500,\n",
       "         'PHP': 67473,\n",
       "         'C': 53387,\n",
       "         'TypeScript': 52419,\n",
       "         'Bash/Shell/PowerShell': 82143,\n",
       "         'Kotlin': 13596,\n",
       "         'R': 15777,\n",
       "         'VBA': 12535,\n",
       "         'Perl': 6165,\n",
       "         'Scala': 11903,\n",
       "         'C++': 61750,\n",
       "         'Go': 23541,\n",
       "         'Haskell': 5489,\n",
       "         'Rust': 10298,\n",
       "         'Dart': 4459,\n",
       "         'Julia': 1464,\n",
       "         'Assembly': 17069,\n",
       "         'WebAssembly': 1015,\n",
       "         'Other(s):': 7920,\n",
       "         'Elixir': 2825,\n",
       "         'Erlang': 2716,\n",
       "         'Clojure': 3594,\n",
       "         'F#': 4122,\n",
       "         'Matlab': 5495,\n",
       "         'CoffeeScript': 3635,\n",
       "         'Lua': 3850,\n",
       "         'VB.NET': 6058,\n",
       "         'Groovy': 4239,\n",
       "         'Cobol': 590,\n",
       "         'Visual Basic 6': 3382,\n",
       "         'Delphi/Object Pascal': 2025,\n",
       "         'Hack': 592,\n",
       "         'Ocaml': 470,\n",
       "         'Common Lisp': 647,\n",
       "         'Smalltalk': 421})"
      ]
     },
     "execution_count": 34,
     "metadata": {},
     "output_type": "execute_result"
    }
   ],
   "source": [
    "lang_worked = Counter()\n",
    "for ele in df.LanguageWorkedWith.dropna():\n",
    "    t = [i.strip() for i in ele.strip().split(';')]\n",
    "    lang_worked.update(t) \n",
    "    \n",
    "# REMOVE DUPLICATES\n",
    "\n",
    "lang_worked['Bash/Shell/PowerShell'] += lang_worked['Bash/Shell']\n",
    "lang_worked.pop('Bash/Shell')\n",
    "\n",
    "lang_worked['HTML/CSS'] += lang_worked['HTML'] + lang_worked['CSS']\n",
    "lang_worked.pop('HTML')\n",
    "lang_worked.pop('CSS')\n",
    "\n",
    "lang_worked"
   ]
  },
  {
   "cell_type": "markdown",
   "metadata": {},
   "source": [
    "Fixing LanguageDesireNextYear"
   ]
  },
  {
   "cell_type": "code",
   "execution_count": 35,
   "metadata": {},
   "outputs": [
    {
     "data": {
      "text/plain": [
       "Counter({'C#': 69018,\n",
       "         'HTML/CSS': 119404,\n",
       "         'JavaScript': 132267,\n",
       "         'Python': 111187,\n",
       "         'Swift': 26519,\n",
       "         'Objective-C': 10274,\n",
       "         'Java': 73852,\n",
       "         'Ruby': 22583,\n",
       "         'Scala': 16555,\n",
       "         'PHP': 42477,\n",
       "         'Rust': 29333,\n",
       "         'R': 19680,\n",
       "         'SQL': 100301,\n",
       "         'Go': 46751,\n",
       "         'TypeScript': 61254,\n",
       "         'Assembly': 13116,\n",
       "         'Bash/Shell/PowerShell': 53782,\n",
       "         'C': 34524,\n",
       "         'Haskell': 8762,\n",
       "         'Perl': 4664,\n",
       "         'C++': 50056,\n",
       "         'Julia': 3153,\n",
       "         'Kotlin': 34828,\n",
       "         'Dart': 9316,\n",
       "         'VBA': 5337,\n",
       "         'Elixir': 4168,\n",
       "         'WebAssembly': 8440,\n",
       "         'Erlang': 5165,\n",
       "         'Other(s):': 7912,\n",
       "         'Clojure': 5853,\n",
       "         'F#': 7730,\n",
       "         'Matlab': 3674,\n",
       "         'Ocaml': 1143,\n",
       "         'CoffeeScript': 3048,\n",
       "         'Delphi/Object Pascal': 1026,\n",
       "         'Groovy': 3238,\n",
       "         'Hack': 837,\n",
       "         'VB.NET': 3819,\n",
       "         'Lua': 3375,\n",
       "         'Visual Basic 6': 1761,\n",
       "         'Cobol': 464,\n",
       "         'Smalltalk': 327,\n",
       "         'Common Lisp': 273})"
      ]
     },
     "execution_count": 35,
     "metadata": {},
     "output_type": "execute_result"
    }
   ],
   "source": [
    "lang_desire = Counter()\n",
    "for ele in df.LanguageDesireNextYear.dropna():\n",
    "    t = [i.strip() for i in ele.strip().split(';')]\n",
    "    lang_desire.update(t)\n",
    "\n",
    "# REMOVE DUPLICATES\n",
    "\n",
    "lang_desire['Bash/Shell/PowerShell'] += lang_desire['Bash/Shell']\n",
    "lang_desire.pop('Bash/Shell')\n",
    "\n",
    "lang_desire['HTML/CSS'] += lang_desire['HTML'] + lang_desire['CSS']\n",
    "lang_desire.pop('HTML')\n",
    "lang_desire.pop('CSS')\n",
    "\n",
    "lang_desire"
   ]
  },
  {
   "cell_type": "markdown",
   "metadata": {},
   "source": [
    "Combining both"
   ]
  },
  {
   "cell_type": "code",
   "execution_count": 36,
   "metadata": {},
   "outputs": [],
   "source": [
    "t1 = pd.DataFrame(pd.Series(lang_desire).reset_index())\n",
    "t2 = pd.DataFrame(pd.Series(lang_worked).reset_index()) \n",
    "total_table_lang = t1.merge(t2,suffixes=('_Desired','_Worked_with'),how='outer',on='index')\n",
    "total_table_lang.columns = ['Language','Desired to use','Already using']\n",
    "# total_table_lang.to_csv('4yrs_lang.csv',index=False) "
   ]
  },
  {
   "cell_type": "markdown",
   "metadata": {},
   "source": [
    "### For Year - Wise analysis of Languages & DataBases"
   ]
  },
  {
   "cell_type": "code",
   "execution_count": 37,
   "metadata": {},
   "outputs": [],
   "source": [
    "def create(column=None,col_names=None):\n",
    "    if column==None:\n",
    "        return \"Please Enter the column\"\n",
    "    if col_names==None:\n",
    "        col_names = ['Tool','Count','Year']\n",
    "    def custom2(column):\n",
    "        for ele in range(2017,2021,1):\n",
    "            temp = df[df.Year==ele]\n",
    "            cnter = Counter()\n",
    "            for ele in temp[f'{column}'].dropna():\n",
    "                t = [i.strip() for i in ele.strip().split(';')]\n",
    "                cnter.update(t)\n",
    "            yield cnter\n",
    "\n",
    "    year_wise = list(custom2(column)) \n",
    "    df_ = pd.DataFrame(columns=['index',0,'YEAR'])\n",
    "\n",
    "    k = 2017\n",
    "    for ele in year_wise:\n",
    "        temp = pd.DataFrame(pd.Series(ele).reset_index())\n",
    "        temp['YEAR'] = k\n",
    "        df_ = pd.concat([df_,temp])\n",
    "        k += 1\n",
    "\n",
    "    df_.columns = col_names\n",
    "    \n",
    "    return df_\n",
    "\n",
    "\n"
   ]
  },
  {
   "cell_type": "code",
   "execution_count": 38,
   "metadata": {},
   "outputs": [],
   "source": [
    "# for languages\n",
    "t1 = create(column = 'LanguageDesireNextYear',col_names=['Desired Language','Count','Year']) \n",
    "t2 = create(column = 'LanguageWorkedWith',col_names=['Language Worked_with','Count','Year']) \n",
    "\n",
    "final_table = t1.merge(t2,suffixes=('_Desired','_Worked_with'),how='outer',\n",
    "                        left_on = ['Desired Language','Year'],\n",
    "         right_on=['Language Worked_with','Year']) \n",
    "\n",
    "final_table.drop(\"Language Worked_with\",axis=1,inplace=True)\n",
    "\n",
    "final_table.rename(columns={'Desired Language':'Language'},inplace=True)\n",
    "\n",
    "final_table.to_csv('Language.csv',index=False) "
   ]
  },
  {
   "cell_type": "code",
   "execution_count": 39,
   "metadata": {},
   "outputs": [],
   "source": [
    "# for databases\n",
    "t1 = create(column = 'DatabaseDesireNextYear',col_names=['Desired DataBase','Count','Year']) \n",
    "t2 = create(column = 'DatabaseWorkedWith',col_names=['DataBase Worked_with','Count','Year'])\n",
    "\n",
    "final_table = t1.merge(t2,suffixes=('_Desired','_Worked_with'),how='outer',\n",
    "                        left_on = ['Desired DataBase','Year'],\n",
    "         right_on=['DataBase Worked_with','Year']) \n",
    "\n",
    "final_table.drop(\"DataBase Worked_with\",axis=1,inplace=True)\n",
    "\n",
    "final_table.rename(columns={'Desired DataBase':'DataBase'},inplace=True)\n",
    "\n",
    "# final_table.to_csv('DataBases.csv',index=False) "
   ]
  },
  {
   "cell_type": "markdown",
   "metadata": {},
   "source": [
    "### Imputing Missing Values for Salary"
   ]
  },
  {
   "cell_type": "code",
   "execution_count": 44,
   "metadata": {},
   "outputs": [],
   "source": [
    "# searched for patterns in missing values(for salaries) using multiple variables but didn't find any\n",
    "# for imputation we'll use group median imputation (grp by year) , as data is highly skewed for all years \n",
    "# so we can't mean impute.\n",
    "\n"
   ]
  },
  {
   "cell_type": "code",
   "execution_count": 60,
   "metadata": {},
   "outputs": [],
   "source": [
    "med_17 = df.query(\"Year==2017\").ConvertedComp.median()\n",
    "med_18 = df.query(\"Year==2018\").ConvertedComp.median()\n",
    "med_19 = df.query(\"Year==2019\").ConvertedComp.median()\n",
    "med_20 = df.query(\"Year==2020\").ConvertedComp.median()\n",
    "\n",
    "\n",
    "def imputer(row):\n",
    "    year = row[0]\n",
    "    val = row[1]\n",
    "    if pd.isnull(val):\n",
    "        if year==2017:\n",
    "            return med_17\n",
    "        elif year==2018:\n",
    "            return med_18\n",
    "        elif year==2019:\n",
    "            return med_19\n",
    "        elif year==2020:\n",
    "            return med_20\n",
    "    else:\n",
    "        return val\n",
    "    \n",
    "df.ConvertedComp = df[['Year','ConvertedComp']].apply(imputer,axis=1)\n",
    "        "
   ]
  },
  {
   "cell_type": "code",
   "execution_count": 61,
   "metadata": {},
   "outputs": [],
   "source": [
    "# prepared data for visualization\n",
    "\n",
    "# df.to_csv('.\\Data to Visualize\\Final Data.csv',index=False) "
   ]
  },
  {
   "cell_type": "markdown",
   "metadata": {},
   "source": [
    "## End "
   ]
  }
 ],
 "metadata": {
  "kernelspec": {
   "display_name": "Python 3",
   "language": "python",
   "name": "python3"
  },
  "language_info": {
   "codemirror_mode": {
    "name": "ipython",
    "version": 3
   },
   "file_extension": ".py",
   "mimetype": "text/x-python",
   "name": "python",
   "nbconvert_exporter": "python",
   "pygments_lexer": "ipython3",
   "version": "3.7.6"
  }
 },
 "nbformat": 4,
 "nbformat_minor": 4
}
