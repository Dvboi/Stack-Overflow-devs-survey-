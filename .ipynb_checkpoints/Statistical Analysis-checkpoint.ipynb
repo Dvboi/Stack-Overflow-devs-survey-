{
 "cells": [
  {
   "cell_type": "markdown",
   "metadata": {},
   "source": [
    "## Statistical Analysis"
   ]
  },
  {
   "cell_type": "code",
   "execution_count": 45,
   "metadata": {},
   "outputs": [],
   "source": [
    "import pandas as pd\n",
    "import seaborn as sns\n",
    "import numpy as np"
   ]
  },
  {
   "cell_type": "code",
   "execution_count": 3,
   "metadata": {},
   "outputs": [],
   "source": [
    "df = pd.read_csv('.\\Data to Visualize\\Final Data.csv')\n"
   ]
  },
  {
   "cell_type": "code",
   "execution_count": 147,
   "metadata": {},
   "outputs": [
    {
     "data": {
      "text/html": [
       "<div>\n",
       "<style scoped>\n",
       "    .dataframe tbody tr th:only-of-type {\n",
       "        vertical-align: middle;\n",
       "    }\n",
       "\n",
       "    .dataframe tbody tr th {\n",
       "        vertical-align: top;\n",
       "    }\n",
       "\n",
       "    .dataframe thead th {\n",
       "        text-align: right;\n",
       "    }\n",
       "</style>\n",
       "<table border=\"1\" class=\"dataframe\">\n",
       "  <thead>\n",
       "    <tr style=\"text-align: right;\">\n",
       "      <th></th>\n",
       "      <th>Year</th>\n",
       "      <th>Hobbyist</th>\n",
       "      <th>ConvertedComp</th>\n",
       "      <th>Country</th>\n",
       "      <th>DatabaseDesireNextYear</th>\n",
       "      <th>DatabaseWorkedWith</th>\n",
       "      <th>DevType</th>\n",
       "      <th>EdLevel</th>\n",
       "      <th>Employment</th>\n",
       "      <th>JobSat</th>\n",
       "      <th>LanguageDesireNextYear</th>\n",
       "      <th>LanguageWorkedWith</th>\n",
       "      <th>OrgSize</th>\n",
       "      <th>UndergradMajor</th>\n",
       "      <th>YearsCodePro</th>\n",
       "    </tr>\n",
       "  </thead>\n",
       "  <tbody>\n",
       "    <tr>\n",
       "      <th>0</th>\n",
       "      <td>2020</td>\n",
       "      <td>Yes</td>\n",
       "      <td>54049.0</td>\n",
       "      <td>Germany</td>\n",
       "      <td>Microsoft SQL Server</td>\n",
       "      <td>Elasticsearch;Microsoft SQL Server;Oracle</td>\n",
       "      <td>Developer, desktop or enterprise applications;...</td>\n",
       "      <td>Some Master's Degree</td>\n",
       "      <td>Independent contractor, freelancer, or self-em...</td>\n",
       "      <td>Slightly satisfied</td>\n",
       "      <td>C#;HTML/CSS;JavaScript</td>\n",
       "      <td>C#;HTML/CSS;JavaScript</td>\n",
       "      <td>2 to 9 employees</td>\n",
       "      <td>Computer science, computer engineering, or sof...</td>\n",
       "      <td>27</td>\n",
       "    </tr>\n",
       "    <tr>\n",
       "      <th>1</th>\n",
       "      <td>2020</td>\n",
       "      <td>No</td>\n",
       "      <td>54049.0</td>\n",
       "      <td>United Kingdom</td>\n",
       "      <td>NaN</td>\n",
       "      <td>NaN</td>\n",
       "      <td>Developer, full-stack;Developer, mobile</td>\n",
       "      <td>Some Bachelor's Degree</td>\n",
       "      <td>Employed full-time</td>\n",
       "      <td>Very dissatisfied</td>\n",
       "      <td>Python;Swift</td>\n",
       "      <td>JavaScript;Swift</td>\n",
       "      <td>1,000 to 4,999 employees</td>\n",
       "      <td>Computer science, computer engineering, or sof...</td>\n",
       "      <td>4</td>\n",
       "    </tr>\n",
       "    <tr>\n",
       "      <th>2</th>\n",
       "      <td>2020</td>\n",
       "      <td>Yes</td>\n",
       "      <td>54049.0</td>\n",
       "      <td>Russian Federation</td>\n",
       "      <td>NaN</td>\n",
       "      <td>NaN</td>\n",
       "      <td>NaN</td>\n",
       "      <td>I prefer not to answer</td>\n",
       "      <td>NaN</td>\n",
       "      <td>NaN</td>\n",
       "      <td>Objective-C;Python;Swift</td>\n",
       "      <td>Objective-C;Python;Swift</td>\n",
       "      <td>I don't know</td>\n",
       "      <td>NaN</td>\n",
       "      <td>NaN</td>\n",
       "    </tr>\n",
       "    <tr>\n",
       "      <th>3</th>\n",
       "      <td>2020</td>\n",
       "      <td>Yes</td>\n",
       "      <td>54049.0</td>\n",
       "      <td>Albania</td>\n",
       "      <td>NaN</td>\n",
       "      <td>NaN</td>\n",
       "      <td>NaN</td>\n",
       "      <td>Some Master's Degree</td>\n",
       "      <td>NaN</td>\n",
       "      <td>Slightly dissatisfied</td>\n",
       "      <td>NaN</td>\n",
       "      <td>NaN</td>\n",
       "      <td>20 to 99 employees</td>\n",
       "      <td>Computer science, computer engineering, or sof...</td>\n",
       "      <td>4</td>\n",
       "    </tr>\n",
       "    <tr>\n",
       "      <th>4</th>\n",
       "      <td>2020</td>\n",
       "      <td>Yes</td>\n",
       "      <td>54049.0</td>\n",
       "      <td>United States</td>\n",
       "      <td>MySQL;PostgreSQL</td>\n",
       "      <td>MySQL;PostgreSQL;Redis;SQLite</td>\n",
       "      <td>NaN</td>\n",
       "      <td>Some Bachelor's Degree</td>\n",
       "      <td>Employed full-time</td>\n",
       "      <td>NaN</td>\n",
       "      <td>Java;Ruby;Scala</td>\n",
       "      <td>HTML/CSS;Ruby;SQL</td>\n",
       "      <td>I don't know</td>\n",
       "      <td>Computer science, computer engineering, or sof...</td>\n",
       "      <td>8</td>\n",
       "    </tr>\n",
       "  </tbody>\n",
       "</table>\n",
       "</div>"
      ],
      "text/plain": [
       "   Year Hobbyist  ConvertedComp             Country DatabaseDesireNextYear  \\\n",
       "0  2020      Yes        54049.0             Germany   Microsoft SQL Server   \n",
       "1  2020       No        54049.0      United Kingdom                    NaN   \n",
       "2  2020      Yes        54049.0  Russian Federation                    NaN   \n",
       "3  2020      Yes        54049.0             Albania                    NaN   \n",
       "4  2020      Yes        54049.0       United States       MySQL;PostgreSQL   \n",
       "\n",
       "                          DatabaseWorkedWith  \\\n",
       "0  Elasticsearch;Microsoft SQL Server;Oracle   \n",
       "1                                        NaN   \n",
       "2                                        NaN   \n",
       "3                                        NaN   \n",
       "4              MySQL;PostgreSQL;Redis;SQLite   \n",
       "\n",
       "                                             DevType                 EdLevel  \\\n",
       "0  Developer, desktop or enterprise applications;...    Some Master's Degree   \n",
       "1            Developer, full-stack;Developer, mobile  Some Bachelor's Degree   \n",
       "2                                                NaN  I prefer not to answer   \n",
       "3                                                NaN    Some Master's Degree   \n",
       "4                                                NaN  Some Bachelor's Degree   \n",
       "\n",
       "                                          Employment                 JobSat  \\\n",
       "0  Independent contractor, freelancer, or self-em...     Slightly satisfied   \n",
       "1                                 Employed full-time      Very dissatisfied   \n",
       "2                                                NaN                    NaN   \n",
       "3                                                NaN  Slightly dissatisfied   \n",
       "4                                 Employed full-time                    NaN   \n",
       "\n",
       "     LanguageDesireNextYear        LanguageWorkedWith  \\\n",
       "0    C#;HTML/CSS;JavaScript    C#;HTML/CSS;JavaScript   \n",
       "1              Python;Swift          JavaScript;Swift   \n",
       "2  Objective-C;Python;Swift  Objective-C;Python;Swift   \n",
       "3                       NaN                       NaN   \n",
       "4           Java;Ruby;Scala         HTML/CSS;Ruby;SQL   \n",
       "\n",
       "                    OrgSize  \\\n",
       "0          2 to 9 employees   \n",
       "1  1,000 to 4,999 employees   \n",
       "2              I don't know   \n",
       "3        20 to 99 employees   \n",
       "4              I don't know   \n",
       "\n",
       "                                      UndergradMajor YearsCodePro  \n",
       "0  Computer science, computer engineering, or sof...           27  \n",
       "1  Computer science, computer engineering, or sof...            4  \n",
       "2                                                NaN          NaN  \n",
       "3  Computer science, computer engineering, or sof...            4  \n",
       "4  Computer science, computer engineering, or sof...            8  "
      ]
     },
     "execution_count": 147,
     "metadata": {},
     "output_type": "execute_result"
    }
   ],
   "source": [
    "df.head() "
   ]
  },
  {
   "cell_type": "code",
   "execution_count": 10,
   "metadata": {},
   "outputs": [
    {
     "data": {
      "image/png": "[encoded data removed]",
      "text/plain": [
       "<Figure size 864x576 with 1 Axes>"
      ]
     },
     "metadata": {
      "needs_background": "light"
     },
     "output_type": "display_data"
    }
   ],
   "source": [
    "from pylab import rcParams\n",
    "rcParams['figure.figsize'] = 12,8\n",
    "sns.distplot(df.ConvertedComp);"
   ]
  },
  {
   "cell_type": "code",
   "execution_count": 89,
   "metadata": {},
   "outputs": [],
   "source": [
    "# right skewed salary...as expected \n",
    "# We can't build a CI on a right skewed dist, we'll have to make it normal first \n",
    "import random\n",
    "def bootstrap(data,no_of_experiments = 10000,sample_size = 1000):\n",
    "    \n",
    "    # This Function might take a while to run depending upon your no_of_experiments size\n",
    "    \n",
    "    means = []\n",
    "    \n",
    "    for i in range(no_of_experiments):\n",
    "        temp = random.sample(list(data),sample_size)\n",
    "        sample_mean = np.mean(temp)\n",
    "        means.append(sample_mean)\n",
    "        \n",
    "    return means\n",
    "        "
   ]
  },
  {
   "cell_type": "code",
   "execution_count": 90,
   "metadata": {},
   "outputs": [],
   "source": [
    "normal_data = bootstrap(df.ConvertedComp)\n"
   ]
  },
  {
   "cell_type": "code",
   "execution_count": 136,
   "metadata": {},
   "outputs": [
    {
     "data": {
      "image/png": "[encoded data removed]",
      "text/plain": [
       "<Figure size 864x576 with 1 Axes>"
      ]
     },
     "metadata": {
      "needs_background": "light"
     },
     "output_type": "display_data"
    }
   ],
   "source": [
    "import matplotlib.pyplot as plt\n",
    "sns.distplot(normal_data) \n",
    "plt.title(\"Sampling Distribution of Sample means of Salary\",fontsize=15);"
   ]
  },
  {
   "cell_type": "code",
   "execution_count": 132,
   "metadata": {},
   "outputs": [],
   "source": [
    "# Now since we have normal data , now we can build CI on it\n",
    "import scipy.stats as st\n",
    "def build_CI(normal_data):\n",
    "    mean = np.mean(normal_data)\n",
    "    std = np.std(normal_data,ddof=1)\n",
    "    z_score = st.norm.ppf(0.95)\n",
    "    standard_error = (std/np.sqrt(1000)) * z_score\n",
    "    CI = (mean-standard_error,mean+standard_error)\n",
    "    return CI"
   ]
  },
  {
   "cell_type": "code",
   "execution_count": 151,
   "metadata": {},
   "outputs": [
    {
     "name": "stdout",
     "output_type": "stream",
     "text": [
      "The Confidence-Interval for Salary of IT Professionals is ($79556.64,$80107.1)\n"
     ]
    }
   ],
   "source": [
    "lb = round(build_CI(normal_data)[0],2)\n",
    "ub = round(build_CI(normal_data)[1],2)\n",
    "print(f'The Confidence-Interval for Salary of IT Professionals is (${lb},${ub})') "
   ]
  },
  {
   "cell_type": "markdown",
   "metadata": {},
   "source": [
    "### Hypothesis Test\n",
    "According to this [Popular site](http://bwpeople.businessworld.in/article/Salary-Of-IT-Professionals-Highest-Ever-Recorded-/10-07-2019-173126#:~:text=by%20Rajguru%20Tandon-,The%20average%20annual%20salary%20for%20global%20IT%20professionals%20is%20%2489%2C732,Salary%20Report%20by%20Global%20Knowledge.) , the mean salary of IT professionals in the world is `$89,732`"
   ]
  },
  {
   "cell_type": "code",
   "execution_count": 160,
   "metadata": {},
   "outputs": [
    {
     "name": "stdout",
     "output_type": "stream",
     "text": [
      "We Reject the Null-Hypothesis, Mean Salary is lower than $89,732\n"
     ]
    }
   ],
   "source": [
    "# We don't have to take care of Hypothesis testing assumptions like 'normality of data' over here\n",
    "# Statsmodels takes care of that for us.\n",
    "_,pval = statsmodels.stats.weightstats.ztest(x1=df.ConvertedComp,value=89372,alternative='smaller') \n",
    "if pval < 0.05:\n",
    "    print(\"We Reject the Null-Hypothesis, Mean Salary is lower than $89,732\")\n",
    "else:\n",
    "    print(\"We Fail to reject the null hypothesis, we suggest the alternate hypothesis as mentioned in te web-site\")"
   ]
  },
  {
   "cell_type": "markdown",
   "metadata": {},
   "source": [
    "## END"
   ]
  }
 ],
 "metadata": {
  "kernelspec": {
   "display_name": "Python 3",
   "language": "python",
   "name": "python3"
  },
  "language_info": {
   "codemirror_mode": {
    "name": "ipython",
    "version": 3
   },
   "file_extension": ".py",
   "mimetype": "text/x-python",
   "name": "python",
   "nbconvert_exporter": "python",
   "pygments_lexer": "ipython3",
   "version": "3.7.6"
  }
 },
 "nbformat": 4,
 "nbformat_minor": 4
}
